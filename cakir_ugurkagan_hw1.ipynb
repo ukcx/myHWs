{
  "nbformat": 4,
  "nbformat_minor": 0,
  "metadata": {
    "colab": {
      "name": "cakir_ugurkagan_hw1.ipynb",
      "provenance": [],
      "collapsed_sections": []
    },
    "kernelspec": {
      "name": "python3",
      "display_name": "Python 3"
    }
  },
  "cells": [
    {
      "cell_type": "markdown",
      "metadata": {
        "id": "JD9gUM7WW8iT"
      },
      "source": [
        "# Homework 1: Strecthing Python Muscles\n",
        "\n",
        "\n",
        "*In the first homework, you are going to work on a set of Python exercises.*\n",
        "\n",
        "**Submission Instructions**\n",
        "\n",
        "---\n",
        "It is important that you follow the submission instructions. \n",
        "1. Copy this assignment notebook to your Drive. <font color = 'red'> `File` --> `Save a copy in Drive`</font>. Rename it as <font color = 'green'>`Lastname_Firstname_hw1`</font>.\n",
        "\n",
        "2. Write your solutions in the cells  marked <font color = 'green'>`# your code`</font>.\n",
        "\n",
        "3. Do not delete your outputs. They are essential for the grading. Make sure that cells containing your solutions are executed, and the results are displayed on the notebook.\n",
        "\n",
        "4. When you're done please submit your solutions as an <font color=\"red\">`.ipynb`</font> file. To do so:\n",
        "\n",
        "\n",
        "1.  Click on <font color=\"red\">`File`</font>  at the top left on the Colab screen, then click on <font color = 'red'>`Download .ipynb`</font>.\n",
        "2.   Then submit the downloaded <font color=\"red\">`.ipynb`</font> version of your work on SUCourse.\n",
        "\n",
        "\n",
        "For any question, you may send an email to the TAs and LAs.\n",
        "\n",
        "---\n",
        "\n",
        "**Important Note:**   \n",
        "In this homework, you are not allowed to use any libraries other than [`random`](https://docs.python.org/3/library/random.html). In addition, you may also use the [`pprint`](https://docs.python.org/3/library/pprint.html) library to produce better looking outputs."
      ]
    },
    {
      "cell_type": "markdown",
      "metadata": {
        "id": "wK0AhfSm417l"
      },
      "source": [
        "## Q1: Get to Know Your TAs\n",
        "\n",
        "In the cell below, you have three lists: names, surnames and mails. The information regarding your TAs are stored in these three separate lists. Moreover, the elements in the same index are associated to a particular TA. For instance, the elements at index 0 constitutes contact information for the first TA.\n",
        "\n",
        "- names[0] -> Rana Bengisu\n",
        "- surnames[0] -> Kalkan\n",
        "- mails[0] -> \"ranakalkan@sabanciuniv.edu\"\n",
        "\n",
        "Here, your goal is to print the contact information of each TA.\n",
        "\n",
        "Write a function named `print_TAs_info` that takes the given lists with the signature below, and then prints the contact information of each TA in the format below.\n",
        "\n",
        "*Hint: You may use the `zip` function.*\n",
        "\n",
        "```py\n",
        ">>> print_TAs_info(names,surnames,mails)\n",
        "Rana Bengisu Kalkan: ranakalkan@sabanciuniv.edu\n",
        "Büşra Öz: boz@sabanciuniv.edu\n",
        "Mert Gürkan: mertgurkan@sabanciuniv.edu\n",
        "Hasan Alp Boz: bozhasan@sabanciuniv.edu\n",
        "```"
      ]
    },
    {
      "cell_type": "code",
      "metadata": {
        "id": "e924Yp97oXsP"
      },
      "source": [
        "names = [\"Rana Bengisu\", \"Büşra\", \"Mert\", \"Hasan Alp\"]\n",
        "surnames = [\"Kalkan\", \"Öz\", \"Gürkan\", \"Boz\"]\n",
        "mails = [\"ranakalkan@sabanciuniv.edu\", \"boz@sabanciuniv.edu\", \"mertgurkan@sabanciuniv.edu\", \"bozhasan@sabanciuniv.edu\"]"
      ],
      "execution_count": null,
      "outputs": []
    },
    {
      "cell_type": "code",
      "metadata": {
        "id": "waAKTlsMTXdN",
        "outputId": "d75a1eba-beff-431d-9c60-274a8f6b4ad0",
        "colab": {
          "base_uri": "https://localhost:8080/",
          "height": 85
        }
      },
      "source": [
        "# your code\n",
        "def print_TAs_info(names, surnames, mails):\n",
        "\n",
        "  for i in range(len(list(zip(names, surnames, mails)))):\n",
        "    print(names[i], \" \", surnames[i], \":  \", mails[i], sep=\"\")\n",
        "\n",
        "print_TAs_info(names, surnames, mails)\n"
      ],
      "execution_count": 45,
      "outputs": [
        {
          "output_type": "stream",
          "text": [
            "Rana Bengisu Kalkan:  ranakalkan@sabanciuniv.edu\n",
            "Büşra Öz:  boz@sabanciuniv.edu\n",
            "Mert Gürkan:  mertgurkan@sabanciuniv.edu\n",
            "Hasan Alp Boz:  bozhasan@sabanciuniv.edu\n"
          ],
          "name": "stdout"
        }
      ]
    },
    {
      "cell_type": "markdown",
      "metadata": {
        "id": "DwskSV1dAeoR"
      },
      "source": [
        "## Q2: Teaching Survey\n",
        "\n",
        "In a survey conducted by the student resources, each student was asked whether they think online or offline education is more effective. The student responses are recorded in a file named `teaching_survey.csv`. Each line contains the response of a particular student and contains her/his major alongside her answer separated by a comma.\n",
        "\n",
        "In total, we have 1020 students; 800 CS, 140 ME and 80 BIO students.\n",
        "\n",
        "![](https://i.ibb.co/p4JJq1h/ss.png)\n",
        "\n",
        "*Do not forget to add the shared file and then mount to your drive. Otherwise, you won't be able to read the file.*\n"
      ]
    },
    {
      "cell_type": "markdown",
      "metadata": {
        "id": "EJdIEenmj6W_"
      },
      "source": [
        "#### Part A\n",
        "\n",
        "Read the provided file and select 60 random student responses. Calculate the percentage of students in the sample that thinks online teaching is more effective.\n",
        "\n",
        "![](https://i.ibb.co/n0x1xFN/sample60.png)\n"
      ]
    },
    {
      "cell_type": "code",
      "metadata": {
        "id": "tbaryKClTz5Z",
        "outputId": "edb99da8-e785-43e1-be42-2a4991d4bc7a",
        "colab": {
          "base_uri": "https://localhost:8080/",
          "height": 34
        }
      },
      "source": [
        "from google.colab import drive\n",
        "drive.mount(\"./drive/\", force_remount=True)"
      ],
      "execution_count": null,
      "outputs": [
        {
          "output_type": "stream",
          "text": [
            "Mounted at ./drive/\n"
          ],
          "name": "stdout"
        }
      ]
    },
    {
      "cell_type": "code",
      "metadata": {
        "id": "NnRDeA3_SPi0",
        "outputId": "6c7bebbb-a4c2-4a4b-8026-47c649ba52a4",
        "colab": {
          "base_uri": "https://localhost:8080/",
          "height": 34
        }
      },
      "source": [
        "# your code\n",
        "import random\n",
        "\n",
        "path_prefix = \"./drive/My Drive/\"\n",
        "file_name = \"teaching_survey.csv\"\n",
        "online_responses = 0\n",
        "percentage = 0.0\n",
        "responses = []\n",
        "\n",
        "\n",
        "with open(path_prefix + file_name, \"r\") as z:\n",
        "    theList = z.readlines()\n",
        "    randIndexList = random.sample(range(0, 1020), 60)\n",
        "    \n",
        "    for i in range(0,60):\n",
        "\n",
        "      info_tuple = theList[randIndexList[i]]\n",
        "      response = info_tuple.split(\",\")\n",
        "      responses.append(response[1])\n",
        "\n",
        "      if responses[i] == \"online\\n\":\n",
        "\n",
        "        percentage = (online_responses + 1) * 100 / 60\n",
        "        online_responses += 1\n",
        "\n",
        "print(percentage, \"%\", sep=\"\")\n",
        "z.close()"
      ],
      "execution_count": null,
      "outputs": [
        {
          "output_type": "stream",
          "text": [
            "38.333333333333336%\n"
          ],
          "name": "stdout"
        }
      ]
    },
    {
      "cell_type": "markdown",
      "metadata": {
        "id": "pIBUWMoXSSwr"
      },
      "source": [
        "#### Part B\n",
        "\n",
        "This time you will apply stratified sampling. Sample 20 student reponses  from each major (60 in total) and  then recalculate the percentage of students in the sample that thinks online teaching is more effective. Report this number. Do you see a diffference? Why is that? Do you think it is enough to draw a random sample once.\n",
        "\n",
        "\n",
        "\n",
        "![](https://i.ibb.co/6Fg0TtW/eqaul-Sample.png)"
      ]
    },
    {
      "cell_type": "code",
      "metadata": {
        "id": "laBFy2HkSXpC",
        "outputId": "7a2b5719-dbcd-4d80-e0a4-8ac11e972cac",
        "colab": {
          "base_uri": "https://localhost:8080/",
          "height": 34
        }
      },
      "source": [
        "# your code\n",
        "import random\n",
        "\n",
        "path_prefix = \"./drive/My Drive/\"\n",
        "file_name = \"teaching_survey.csv\"\n",
        "online_responses = 0\n",
        "percentage = 0.0\n",
        "responses = []\n",
        "\n",
        "\n",
        "with open(path_prefix + file_name, \"r\") as z:\n",
        "\n",
        "  theList = z.readlines()\n",
        "  theList.sort()\n",
        "  randIndexList = random.sample(range(0, 80), 20) + random.sample(range(80, 880), 20) + random.sample(range(880, 1020), 20)\n",
        "\n",
        "\n",
        "  for i in range(0,20):\n",
        "\n",
        "    info_tuple = theList[randIndexList[i]] #for BIO students\n",
        "    response = info_tuple.split(\",\")\n",
        "    responses.append(response[1])\n",
        "    if responses[i] == \"online\\n\":\n",
        "\n",
        "        online_responses += 1\n",
        "  \n",
        "  for i in range(0,20):\n",
        "\n",
        "    info_tuple = theList[randIndexList[i + 20]] #for CS students\n",
        "    response = info_tuple.split(\",\")\n",
        "    responses.append(response[1])\n",
        "    if responses[i + 20] == \"online\\n\":\n",
        "\n",
        "        online_responses += 1\n",
        "\n",
        "    \n",
        "  for i in range(0,20):\n",
        "\n",
        "    info_tuple = theList[randIndexList[i + 40]] #for ME students\n",
        "    response = info_tuple.split(\",\")\n",
        "    responses.append(response[1])\n",
        "    if responses[i + 40] == \"online\\n\":\n",
        "\n",
        "        online_responses += 1\n",
        "\n",
        "\n",
        "percentage = online_responses * 100 / 60\n",
        "\n",
        "print(percentage, \"%\", sep=\"\")\n",
        "\n",
        "z.close()"
      ],
      "execution_count": 46,
      "outputs": [
        {
          "output_type": "stream",
          "text": [
            "26.666666666666668%\n"
          ],
          "name": "stdout"
        }
      ]
    },
    {
      "cell_type": "markdown",
      "metadata": {
        "id": "HMa35yitTrzR"
      },
      "source": [
        "<font color=\"blue\">[Double Click to insert your comment]</font>\n",
        "The resulted percentage is significantly lower than the previous percentage. That's because most of the \"online\" responses came from CS students which are large in number. I don't think we can come up with a general idea by sampling once. We should do various samplings."
      ]
    },
    {
      "cell_type": "markdown",
      "metadata": {
        "id": "srIzF7eJYUAW"
      },
      "source": [
        "## Q3: List Reshaping\n",
        "\n",
        "List/array reshaping is one of the most fundamental operations in data manipulation. In the figure below, you see a single dimensional (1D) list named `arr` that contains integers from 1 to 6. We can cast this 1D list into a matrix as well. \n",
        "\n",
        "![](https://cdn.discordapp.com/attachments/715265876810530846/764191117067026472/list_to_matrix2.png)\n",
        "\n",
        "By referencing the figure above, write a function named `list_to_matrix` which will take a single dimensional list and two integers representing the shape of the desired matrix. At the end, it should return the resulting matrix.\n",
        "\n",
        "If the given number of rows and columns are not compatible with the number of elements, then print a warning and return `None`.\n",
        "\n",
        "```py\n",
        ">>> arr = [i for i in range(30)]\n",
        ">>> list_to_matrix(arr, 5, 6)\n",
        "[[0, 1, 2, 3, 4, 5],\n",
        " [6, 7, 8, 9, 10, 11],\n",
        " [12, 13, 14, 15, 16, 17],\n",
        " [18, 19, 20, 21, 22, 23],\n",
        " [24, 25, 26, 27, 28, 29]]\n",
        "\n",
        ">>> list_to_matrix(arr, 5, 4)  # will give a warning\n",
        "                               # because we can't place 30 elements\n",
        "                               # in a 5x4 matrix\n",
        "\"Uncompatible Shapes\"\n",
        "```"
      ]
    },
    {
      "cell_type": "code",
      "metadata": {
        "id": "iZgKbmvbZM61",
        "outputId": "a47200e1-5dc4-4ee7-ebf2-3e3d319b7e0e",
        "colab": {
          "base_uri": "https://localhost:8080/",
          "height": 102
        }
      },
      "source": [
        "arr = [i for i in range(30)]\n",
        "\n",
        "# your code\n",
        "def list_to_matrix(arr, rows, cols):\n",
        "\n",
        "  if (len(arr) != (rows * cols)):\n",
        "    print(\"Given number of rows and columns are not compatible with the number of elements!\")\n",
        "    return None\n",
        "\n",
        "  else:\n",
        "    resultMatrix = []\n",
        "    k = 0\n",
        "\n",
        "    for i in range(rows):\n",
        "      resultMatrix.append(list(arr[k: (k + cols)]))\n",
        "      k = k + cols\n",
        "\n",
        "    return resultMatrix\n",
        "\n",
        "list_to_matrix(arr, 5, 6)\n"
      ],
      "execution_count": 47,
      "outputs": [
        {
          "output_type": "execute_result",
          "data": {
            "text/plain": [
              "[[0, 1, 2, 3, 4, 5],\n",
              " [6, 7, 8, 9, 10, 11],\n",
              " [12, 13, 14, 15, 16, 17],\n",
              " [18, 19, 20, 21, 22, 23],\n",
              " [24, 25, 26, 27, 28, 29]]"
            ]
          },
          "metadata": {
            "tags": []
          },
          "execution_count": 47
        }
      ]
    },
    {
      "cell_type": "markdown",
      "metadata": {
        "id": "_0FzjI4Li18J"
      },
      "source": [
        "## Q4: Longest Word in a File\n",
        "\n",
        "In the shared assignment folder, you have a file named `hamlet.txt` which stores the famous play written by William Shakespeare.\n",
        "\n",
        "Write a function named `longest_word` which will take a file name as it's single parameter and then reads and returns the longest word from that file.\n",
        "\n",
        "```py\n",
        ">>> longest_word(\"hamlet.txt\")\n",
        "```\n",
        "\n",
        "*Do not forget to add the shared file and then mount to your drive. Otherwise, you won't be able to read the file.*"
      ]
    },
    {
      "cell_type": "code",
      "metadata": {
        "id": "DEQOU3viZAfj",
        "outputId": "01385a6c-364b-463d-aa81-eaa9a36a752f",
        "colab": {
          "base_uri": "https://localhost:8080/",
          "height": 35
        }
      },
      "source": [
        "# Your code\n",
        "\n",
        "def longest_word(file_name):\n",
        "  path = \"./drive/My Drive/\"\n",
        "  file_path = path + file_name\n",
        "\n",
        "  with open(file_path, \"r\") as z:\n",
        "  \n",
        "    word_list_without_blank = []\n",
        "\n",
        "    for line in z:\n",
        "      line.strip(\"\\n\")\n",
        "      words_list = list(line.split(\" \"))\n",
        "      for i in range(len(words_list)):\n",
        "        word = words_list[i].strip()\n",
        "        word = word.strip(\"\\n\\t\\'\\\"\\\\,.:;_-*#/&%^?![](){}\")\n",
        "        if (word != \"\"): \n",
        "          word_list_without_blank.append(word)\n",
        "      \n",
        "    \n",
        "    max_length = 0\n",
        "    max_charactered_word = \"\"\n",
        "\n",
        "    for i in word_list_without_blank:\n",
        "      if(len(i) > max_length):\n",
        "        max_length = len(i)\n",
        "        max_charactered_word = i\n",
        "  \n",
        "    return max_charactered_word\n",
        "\n",
        "  z.close()\n",
        "\n",
        "\n",
        "longest_word(\"hamlet.txt\")"
      ],
      "execution_count": 48,
      "outputs": [
        {
          "output_type": "execute_result",
          "data": {
            "application/vnd.google.colaboratory.intrinsic+json": {
              "type": "string"
            },
            "text/plain": [
              "'tragical-comical-historical-pastoral'"
            ]
          },
          "metadata": {
            "tags": []
          },
          "execution_count": 48
        }
      ]
    },
    {
      "cell_type": "code",
      "metadata": {
        "id": "Qeu4SzaFqYUZ"
      },
      "source": [
        ""
      ],
      "execution_count": null,
      "outputs": []
    }
  ]
}