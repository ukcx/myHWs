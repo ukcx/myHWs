{
  "nbformat": 4,
  "nbformat_minor": 0,
  "metadata": {
    "kernelspec": {
      "display_name": "Python 3",
      "language": "python",
      "name": "python3"
    },
    "language_info": {
      "codemirror_mode": {
        "name": "ipython",
        "version": 3
      },
      "file_extension": ".py",
      "mimetype": "text/x-python",
      "name": "python",
      "nbconvert_exporter": "python",
      "pygments_lexer": "ipython3",
      "version": "3.6.7"
    },
    "colab": {
      "name": "cakir_ugurkagan_hw2.ipynb",
      "provenance": [],
      "collapsed_sections": []
    }
  },
  "cells": [
    {
      "cell_type": "markdown",
      "metadata": {
        "id": "ldMgDPWh6KZJ"
      },
      "source": [
        "#Homework 2: Drug Side Effects\n",
        "\n",
        "*In the second homework, you are going to work with SIDER side effects dataset.*\n",
        "\n",
        "**Submission Instructions**\n",
        "\n",
        "---\n",
        "It is important that you follow the submission instructions. \n",
        "1. Copy this assignment notebook to your Drive. <font color = 'red'> `File` --> `Save a copy in Drive`</font>. Rename it as <font color = 'green'>`Lastname_Firstname_hw1`</font>.\n",
        "\n",
        "2. Write your solutions in the cells  marked <font color = 'green'>`# your code`</font>.\n",
        "\n",
        "3. Do not delete your outputs. They are essential for the grading. Make sure that cells containing your solutions are executed, and the results are displayed on the notebook.\n",
        "\n",
        "4. When you're done please submit your solutions as an <font color=\"red\">`.ipynb`</font> file. To do so:\n",
        "\n",
        "\n",
        "1.  Click on <font color=\"red\">`File`</font>  at the top left on the Colab screen, then click on <font color = 'red'>`Download .ipynb`</font>.\n",
        "2.   Then submit the downloaded <font color=\"red\">`.ipynb`</font> version of your work on SUCourse.\n",
        "\n",
        "\n",
        "For any question, you may send an email to the TAs and LAs.\n",
        "\n",
        "---"
      ]
    },
    {
      "cell_type": "markdown",
      "metadata": {
        "id": "pSp2PnhBSssR"
      },
      "source": [
        "In this homework, you will work on a dataset from [SIDER Side Effect Resource](http://sideeffects.embl.de/). SIDER contains information on marketed drugs and their recorded adverse drug reactions (ADR).\n",
        "\n",
        "For this homework, you will use the provided file `meddra_all_se.csv`. This is a modified and simplified version of the original dataset, which contains possible side effects of different drugs.\n",
        "<!-- This is not the original data file, we modified and eliminated some parts to make your work easier. -->\n",
        "\n",
        "As listed in their prospectives, drugs can cause some side effects besides their healing properties. This dataset simply contains entries of drugs and their potential side effects.\n",
        "\n",
        "In the dataset, each row has 4 attribute values separated with `,`. These attributes are described in the list below with their respective order in the dataset.\n",
        "\n",
        "\n",
        "  1.   **STITCH compound id:** Refers to ID of a particular drug \n",
        "\n",
        "  2.   **UMLS concept id:** Unified Medical Language System ID\n",
        "\n",
        "  3.   **UMLS concept id for MedDRA term** \n",
        "\n",
        "  4.   **Side effect name:** Contains the possible side effect entry.\n",
        "\n",
        "**You will consider the STITCH compound id as the id of a particular drug. Therefore, rows with the same STITCH compound id refer to possible side effects of the same particular drug.**\n",
        "\n",
        "A snapshot from the dataset containing three sample rows is also provided below.\n",
        "```\n",
        "...\n",
        "CID100000085,CID000010917,C0015230,Rash\n",
        "CID100000085,CID000010917,C0015397,Eye disorder\n",
        "CID100000085,CID000010917,C0015967,Body temperature increased\n",
        "\n",
        "...\n",
        "```\n",
        "\n",
        "*Do not forget to add the shared `meddra_all_se.csv` file to your drive and mount to your drive. Otherwise, you won't be able to read the file.*\n",
        "\n",
        "**!!!You are not allowed to use `pandas` in this homework**"
      ]
    },
    {
      "cell_type": "code",
      "metadata": {
        "id": "NQS682uLXZWr"
      },
      "source": [
        "import numpy as np\n",
        "import matplotlib.pyplot as plt\n",
        "from os.path import join\n",
        "\n",
        "%matplotlib inline"
      ],
      "execution_count": 39,
      "outputs": []
    },
    {
      "cell_type": "code",
      "metadata": {
        "id": "8VzWuGps4xl_",
        "outputId": "5d40f501-1a47-4acd-efc4-de9d578e80cb",
        "colab": {
          "base_uri": "https://localhost:8080/"
        }
      },
      "source": [
        "from google.colab import drive\n",
        "drive.mount('./drive', force_remount=True)\n",
        "\n",
        "path_prefix = \"./drive/My Drive\""
      ],
      "execution_count": 40,
      "outputs": [
        {
          "output_type": "stream",
          "text": [
            "Mounted at ./drive\n"
          ],
          "name": "stdout"
        }
      ]
    },
    {
      "cell_type": "markdown",
      "metadata": {
        "id": "K6GWzFj_rQ5J"
      },
      "source": [
        "## Q1: Descriptive Statistics of the Dataset\n",
        "\n",
        "In this question, your task is to gather some descriptive information about the dataset. To do this, first read the provided dataset and store it in a 2 dimensional numpy array. Then, print the listed descriptive statistics about the dataset.\n",
        "\n",
        "*   Shape of the dataset, i.e. number of rows and columns\n",
        "*   Number of unique drugs \n",
        "*   Number of unique side effects"
      ]
    },
    {
      "cell_type": "code",
      "metadata": {
        "id": "S36mQBwjvz2i",
        "outputId": "ba2767be-71e3-4a18-f9be-bc8d14ee7e6c",
        "colab": {
          "base_uri": "https://localhost:8080/"
        }
      },
      "source": [
        "# your code\n",
        "drugs = []\n",
        "\n",
        "with open(path_prefix + \"/meddra_all_se.csv\", \"r\") as z: \n",
        "  for line in z:\n",
        "    line = line.strip()\n",
        "    drugs.append(line.split(\",\"))\n",
        "\n",
        "  \n",
        "  drugs_list = np.array(drugs)\n",
        "  unique_drugs = np.unique(drugs_list[:,0])\n",
        "  unique_side_effects = np.unique(drugs_list[:,3])\n",
        "  \n",
        "\n",
        "print(\"Shape of the dataset is:\", np.shape(drugs_list))\n",
        "print(\"Number of unique drugs in the dataset is:\", len(unique_drugs))\n",
        "print(\"Number of unique side effects in the dataset is:\", len(unique_side_effects))"
      ],
      "execution_count": 41,
      "outputs": [
        {
          "output_type": "stream",
          "text": [
            "Shape of the dataset is: (91281, 4)\n",
            "Number of unique drugs in the dataset is: 953\n",
            "Number of unique side effects in the dataset is: 5064\n"
          ],
          "name": "stdout"
        }
      ]
    },
    {
      "cell_type": "markdown",
      "metadata": {
        "id": "QaM_N7VbvjNd"
      },
      "source": [
        "## Q2: Side Effects of Drugs"
      ]
    },
    {
      "cell_type": "markdown",
      "metadata": {
        "id": "rDTZdak-vBEF"
      },
      "source": [
        "### Part A \n",
        "\n",
        "As explained above, side effect entries in the dataset correspond to possible side effects of different drugs.\n",
        "\n",
        "In this part, your goal is to find the drug which has the most side effects in the dataset. <!-- Print the `drug id` *(STITCH compound id)* of that drug and `number of its indications`. --> Print the `drug id` *(STITCH compound id)* of that drug and print the number of possible side effects (indications) it has.\n",
        "\n",
        "Print your results in the following format.\n",
        "\n",
        "``` py\n",
        "drug id: CID100002771\n",
        "number of side effects: 766\n",
        "```\n",
        "\n",
        "\n"
      ]
    },
    {
      "cell_type": "code",
      "metadata": {
        "id": "HgNzsbgMvT_l",
        "outputId": "ec61a58b-46b6-4fbc-d213-a978e52fd1c6",
        "colab": {
          "base_uri": "https://localhost:8080/"
        }
      },
      "source": [
        "# your code\n",
        "\n",
        "drug_ids, counts= np.unique(drugs_list[:,0], return_counts=True)\n",
        "maxElemIndex = np.where(counts == max(counts))\n",
        "print(\"drug id:\", drug_ids[maxElemIndex][0])\n",
        "print(\"number of side effects:\", max(counts))"
      ],
      "execution_count": 42,
      "outputs": [
        {
          "output_type": "stream",
          "text": [
            "drug id: CID100002771\n",
            "number of side effects: 766\n"
          ],
          "name": "stdout"
        }
      ]
    },
    {
      "cell_type": "markdown",
      "metadata": {
        "id": "QB1vuzhZp1xt"
      },
      "source": [
        "### Part B \n",
        "\n",
        "Now, find the number of side effects for all drugs and display its distribution as an histogram.\n",
        "\n",
        "An exemplary figure can be observed below.\n",
        "\n",
        "![](https://i.ibb.co/7zPSnkR/hist.jpg)\n",
        "\n"
      ]
    },
    {
      "cell_type": "code",
      "metadata": {
        "id": "gByAdVaJvUz8",
        "outputId": "864e50cd-06a0-4cad-d72d-316de76bc232",
        "colab": {
          "base_uri": "https://localhost:8080/",
          "height": 295
        }
      },
      "source": [
        "# your code\n",
        "plt.hist(counts, bins= 24, range = (0, 800))\n",
        "\n",
        "\n",
        "plt.title(\"The Number of Side Effects per Drug\")\n",
        "plt.ylabel(\"Frequency\")\n",
        "plt.xlabel(\"Number of Side Effects\")\n",
        "plt.show()\n"
      ],
      "execution_count": 43,
      "outputs": [
        {
          "output_type": "display_data",
          "data": {
            "image/png": "[encoded data removed]",
            "text/plain": [
              "<Figure size 432x288 with 1 Axes>"
            ]
          },
          "metadata": {
            "tags": [],
            "needs_background": "light"
          }
        }
      ]
    },
    {
      "cell_type": "markdown",
      "metadata": {
        "id": "0M6JfX5cp7Zv"
      },
      "source": [
        "## Q3: The Most Frequent Side Effects\n",
        "\n",
        "Here, you are going to analyze side effects that can be more commonly caused by drugs. \n",
        "\n",
        "Since we have a dataset of drugs and their potential side effects, one of the first question that comes to mind is to see the most common side effects of these drugs.\n",
        "\n",
        "*   Plot a `bar chart` to show most frequent 15 side effects of the dataset.\n",
        "\n",
        "![](https://i.ibb.co/Y8nQr3p/barh.jpg)\n",
        "\n",
        "*You can choose to make the bar chart with a different style, but the bars should look like the chart above.* \n"
      ]
    },
    {
      "cell_type": "code",
      "metadata": {
        "id": "prRpUH5bgSNi",
        "outputId": "f14a5b06-1408-4ee8-f331-2c84ef339f86",
        "colab": {
          "base_uri": "https://localhost:8080/",
          "height": 295
        }
      },
      "source": [
        "# your code\n",
        "side_effects, se_counts= np.unique(drugs_list[:,3], return_counts=True)\n",
        "num_of_side_effects = np.sort(se_counts)[::-1]\n",
        "num_of_side_effects = num_of_side_effects[0:15]\n",
        "se_names = [None] * 15\n",
        "for i in range(15):\n",
        "  se_names[i] = side_effects[se_counts == num_of_side_effects[i]]\n",
        "se_names = np.array(se_names)\n",
        "se_names = se_names.flatten()\n",
        "plt.barh(se_names, num_of_side_effects, height = 0.75, color = 'g')\n",
        "\n",
        "plt.xlabel(\"Frequency\")\n",
        "plt.ylabel(\"Side Effects\")\n",
        "plt.title(\"Top 15 Most Frequent Side Effects\")\n",
        "plt.show()"
      ],
      "execution_count": 44,
      "outputs": [
        {
          "output_type": "display_data",
          "data": {
            "image/png": "[encoded data removed]",
            "text/plain": [
              "<Figure size 432x288 with 1 Axes>"
            ]
          },
          "metadata": {
            "tags": [],
            "needs_background": "light"
          }
        }
      ]
    },
    {
      "cell_type": "markdown",
      "metadata": {
        "id": "cpic0BLlp95Z"
      },
      "source": [
        "## Q4: Conditional Probability\n",
        "\n",
        "In Probability Theory, conditional probability is a measure of the probability of an event occurring, given that another event has already occurred. The formula for the conditional probability is shared below.\n",
        "\n",
        "```\n",
        "P(B|A) = P(A and B) / P(A)\n",
        "```\n",
        "\n",
        "As also suggested by our dataset, drugs can have multiple side effects. With the conditional probability, we can study the chances of a particular side effect with a given presence of another one.\n",
        "\n",
        "So, the following question can be answered with our dataset. \n",
        "\n",
        "**If a drug has `Headache` side effect, what is the probability it also has `Vomiting` side effect?**\n",
        "\n",
        "Please calculate this conditional probability from the dataset and report the resulting probability score."
      ]
    },
    {
      "cell_type": "code",
      "metadata": {
        "id": "a26lkrlt27qr",
        "outputId": "fe2e6a0e-d149-4711-b9f9-69d539f96283",
        "colab": {
          "base_uri": "https://localhost:8080/"
        }
      },
      "source": [
        "# your code\n",
        "headache = drugs_list[drugs_list[:,3] == \"Headache\"]\n",
        "vomiting = drugs_list[drugs_list[:,3] == \"Vomiting\"]\n",
        "both_effects = np.intersect1d(headache[:,0], vomiting[:,0])\n",
        "\n",
        "prob_A = len(headache) / len(drugs_list[:,0])\n",
        "prob_AandB = len(both_effects) / len(drugs_list[:,0])\n",
        "\n",
        "print(prob_AandB / prob_A)"
      ],
      "execution_count": 45,
      "outputs": [
        {
          "output_type": "stream",
          "text": [
            "0.8398914518317504\n"
          ],
          "name": "stdout"
        }
      ]
    }
  ]
}